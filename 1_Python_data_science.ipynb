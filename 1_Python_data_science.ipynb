{
  "nbformat": 4,
  "nbformat_minor": 0,
  "metadata": {
    "colab": {
      "provenance": [],
      "authorship_tag": "ABX9TyMWLNfYhWbXOvJbydJQ0wcx",
      "include_colab_link": true
    },
    "kernelspec": {
      "name": "python3",
      "display_name": "Python 3"
    },
    "language_info": {
      "name": "python"
    }
  },
  "cells": [
    {
      "cell_type": "markdown",
      "metadata": {
        "id": "view-in-github",
        "colab_type": "text"
      },
      "source": [
        "<a href=\"https://colab.research.google.com/github/bsmiranda/Python-for-Data-Science/blob/main/1_Python_data_science.ipynb\" target=\"_parent\"><img src=\"https://colab.research.google.com/assets/colab-badge.svg\" alt=\"Open In Colab\"/></a>"
      ]
    },
    {
      "cell_type": "markdown",
      "source": [
        "# **Python programming logic**"
      ],
      "metadata": {
        "id": "UNzA5d-MgL1J"
      }
    },
    {
      "cell_type": "markdown",
      "source": [
        "Logic Programming Course in Python offered by the digital school Alura. The course is part of the Data Science Training.\n",
        "\n",
        "* First codes in Python;\n",
        "* Language fundamentals: variables, functions, lists, if and else, for and imports;\n",
        "* Graph creation with Matplotlib.\n"
      ],
      "metadata": {
        "id": "13ZF5xywgoth"
      }
    },
    {
      "cell_type": "code",
      "execution_count": null,
      "metadata": {
        "colab": {
          "base_uri": "https://localhost:8080/"
        },
        "id": "h1UtKqMmgFez",
        "outputId": "8a2a59c3-aca1-49cd-cbb2-b682c422c376"
      },
      "outputs": [
        {
          "output_type": "execute_result",
          "data": {
            "text/plain": [
              "12"
            ]
          },
          "metadata": {},
          "execution_count": 1
        }
      ],
      "source": [
        "10+2"
      ]
    },
    {
      "cell_type": "code",
      "source": [
        "8-5"
      ],
      "metadata": {
        "colab": {
          "base_uri": "https://localhost:8080/"
        },
        "id": "4wpdy2HpgWM8",
        "outputId": "2e219671-b1bd-4f75-cc75-54fc390901dc"
      },
      "execution_count": null,
      "outputs": [
        {
          "output_type": "execute_result",
          "data": {
            "text/plain": [
              "3"
            ]
          },
          "metadata": {},
          "execution_count": 2
        }
      ]
    },
    {
      "cell_type": "code",
      "source": [
        "3*2"
      ],
      "metadata": {
        "colab": {
          "base_uri": "https://localhost:8080/"
        },
        "id": "pxDeKnnbhXob",
        "outputId": "c1cb571a-a807-4939-cbfd-9aad4fecf8e6"
      },
      "execution_count": null,
      "outputs": [
        {
          "output_type": "execute_result",
          "data": {
            "text/plain": [
              "6"
            ]
          },
          "metadata": {},
          "execution_count": 3
        }
      ]
    },
    {
      "cell_type": "code",
      "source": [
        "6/2"
      ],
      "metadata": {
        "colab": {
          "base_uri": "https://localhost:8080/"
        },
        "id": "hbWzpMuphZtK",
        "outputId": "d85c1f58-fc64-4b70-c1eb-e1b1b25ca3cf"
      },
      "execution_count": null,
      "outputs": [
        {
          "output_type": "execute_result",
          "data": {
            "text/plain": [
              "3.0"
            ]
          },
          "metadata": {},
          "execution_count": 4
        }
      ]
    },
    {
      "cell_type": "code",
      "source": [
        "\"Bruno Miranda\""
      ],
      "metadata": {
        "colab": {
          "base_uri": "https://localhost:8080/",
          "height": 37
        },
        "id": "L0ifIrK_hcC8",
        "outputId": "f26aacc7-bb43-462d-ea60-18328cafe682"
      },
      "execution_count": null,
      "outputs": [
        {
          "output_type": "execute_result",
          "data": {
            "text/plain": [
              "'Bruno Miranda'"
            ],
            "application/vnd.google.colaboratory.intrinsic+json": {
              "type": "string"
            }
          },
          "metadata": {},
          "execution_count": 5
        }
      ]
    },
    {
      "cell_type": "code",
      "source": [
        "type(\"Bruno Miranda\")"
      ],
      "metadata": {
        "colab": {
          "base_uri": "https://localhost:8080/"
        },
        "id": "TZj--ivkhjcD",
        "outputId": "0243ab2f-4996-4a75-a989-4464c8f3f0fb"
      },
      "execution_count": null,
      "outputs": [
        {
          "output_type": "execute_result",
          "data": {
            "text/plain": [
              "str"
            ]
          },
          "metadata": {},
          "execution_count": 6
        }
      ]
    },
    {
      "cell_type": "code",
      "source": [
        "name = \"Bruno Miranda\""
      ],
      "metadata": {
        "id": "1GV3l-e9hmUy"
      },
      "execution_count": null,
      "outputs": []
    },
    {
      "cell_type": "code",
      "source": [
        "name"
      ],
      "metadata": {
        "colab": {
          "base_uri": "https://localhost:8080/",
          "height": 37
        },
        "id": "2hAopEaehpk9",
        "outputId": "cc7596f9-f98a-4e15-8666-3d0ae52e4068"
      },
      "execution_count": null,
      "outputs": [
        {
          "output_type": "execute_result",
          "data": {
            "text/plain": [
              "'Bruno Miranda'"
            ],
            "application/vnd.google.colaboratory.intrinsic+json": {
              "type": "string"
            }
          },
          "metadata": {},
          "execution_count": 8
        }
      ]
    },
    {
      "cell_type": "code",
      "source": [
        "type(name)"
      ],
      "metadata": {
        "colab": {
          "base_uri": "https://localhost:8080/"
        },
        "id": "y81n6nczhuzz",
        "outputId": "9aa9b80e-d49f-404f-e10a-e6f62d89e2e6"
      },
      "execution_count": null,
      "outputs": [
        {
          "output_type": "execute_result",
          "data": {
            "text/plain": [
              "str"
            ]
          },
          "metadata": {},
          "execution_count": 9
        }
      ]
    },
    {
      "cell_type": "code",
      "source": [
        "age = 30"
      ],
      "metadata": {
        "id": "KlxpSJcdhv-q"
      },
      "execution_count": null,
      "outputs": []
    },
    {
      "cell_type": "code",
      "source": [
        "age"
      ],
      "metadata": {
        "colab": {
          "base_uri": "https://localhost:8080/"
        },
        "id": "YwxKDIrRhzHO",
        "outputId": "e7051eb7-95f0-404e-abbc-ed3148e983a8"
      },
      "execution_count": null,
      "outputs": [
        {
          "output_type": "execute_result",
          "data": {
            "text/plain": [
              "30"
            ]
          },
          "metadata": {},
          "execution_count": 11
        }
      ]
    },
    {
      "cell_type": "code",
      "source": [
        "print(f'My name is {name} and I am {age} years old.')"
      ],
      "metadata": {
        "colab": {
          "base_uri": "https://localhost:8080/"
        },
        "id": "Y6MYmKLqhzcn",
        "outputId": "6fe93429-0ffc-4a9d-92d0-9cc6658a34c7"
      },
      "execution_count": null,
      "outputs": [
        {
          "output_type": "stream",
          "name": "stdout",
          "text": [
            "My name is Bruno Miranda and I am 30 years old.\n"
          ]
        }
      ]
    },
    {
      "cell_type": "markdown",
      "source": [
        "## Creating my first function"
      ],
      "metadata": {
        "id": "SUV05m8GiIOp"
      }
    },
    {
      "cell_type": "code",
      "source": [
        "def greeting():\n",
        "  name = input(\"What's your name? \")\n",
        "  print(f'Hello {name}.')"
      ],
      "metadata": {
        "id": "VH_xphnNiBqY"
      },
      "execution_count": null,
      "outputs": []
    },
    {
      "cell_type": "code",
      "source": [
        "greeting()"
      ],
      "metadata": {
        "colab": {
          "base_uri": "https://localhost:8080/"
        },
        "id": "Vsxm8VAmiiix",
        "outputId": "b0f6c695-74eb-47eb-ad7d-3d342f427931"
      },
      "execution_count": null,
      "outputs": [
        {
          "output_type": "stream",
          "name": "stdout",
          "text": [
            "What's your name? Bruno\n",
            "Hello Bruno.\n"
          ]
        }
      ]
    },
    {
      "cell_type": "markdown",
      "source": [
        "## Parameters"
      ],
      "metadata": {
        "id": "DXePDwGmjcEm"
      }
    },
    {
      "cell_type": "code",
      "source": [
        "name = 'Leticia'"
      ],
      "metadata": {
        "id": "53DDrJtFikDx"
      },
      "execution_count": null,
      "outputs": []
    },
    {
      "cell_type": "code",
      "source": [
        "def greeting_with_parameters(persons_name):\n",
        "  print(f'Hello {persons_name}')"
      ],
      "metadata": {
        "id": "21ZV9z6PjiSp"
      },
      "execution_count": null,
      "outputs": []
    },
    {
      "cell_type": "code",
      "source": [
        "greeting_with_parameters(name)"
      ],
      "metadata": {
        "colab": {
          "base_uri": "https://localhost:8080/"
        },
        "id": "TNq1o3Frj10F",
        "outputId": "5678a900-a86a-4de9-b93f-8d03b393c83e"
      },
      "execution_count": null,
      "outputs": [
        {
          "output_type": "stream",
          "name": "stdout",
          "text": [
            "Hello Leticia\n"
          ]
        }
      ]
    },
    {
      "cell_type": "markdown",
      "source": [
        "## Conditions if and else"
      ],
      "metadata": {
        "id": "W9eBuRG_j_X6"
      }
    },
    {
      "cell_type": "code",
      "source": [
        "age = 16"
      ],
      "metadata": {
        "id": "RdilaSd7j4BY"
      },
      "execution_count": null,
      "outputs": []
    },
    {
      "cell_type": "code",
      "source": [
        "def check_permission(age):\n",
        "  if age >= 18:\n",
        "    print(\"You have permission to drive.\")\n",
        "  else:\n",
        "    print(\"You haven't permission to drive.\")"
      ],
      "metadata": {
        "id": "qf5_F3AOkDHj"
      },
      "execution_count": null,
      "outputs": []
    },
    {
      "cell_type": "code",
      "source": [
        "check_permission(age)"
      ],
      "metadata": {
        "colab": {
          "base_uri": "https://localhost:8080/"
        },
        "id": "MWWGPsYHkUxU",
        "outputId": "93a498b2-62c4-417d-f28b-014061c33919"
      },
      "execution_count": null,
      "outputs": [
        {
          "output_type": "stream",
          "name": "stdout",
          "text": [
            "You haven't permission to drive.\n"
          ]
        }
      ]
    },
    {
      "cell_type": "markdown",
      "source": [
        "## Converting type for integer\n"
      ],
      "metadata": {
        "id": "TwCQQQl9kxEQ"
      }
    },
    {
      "cell_type": "code",
      "source": [
        "def check_if_can_drive():\n",
        "  age = input(\"How old are you? \") # here the \"age\" is a string\n",
        "  age = int(age) # here the \"age\" is converted to an integer\n",
        "  if age >= 18:\n",
        "    print(\"You have permission to drive.\")\n",
        "  else:\n",
        "    print(\"You haven't permission to drive.\")"
      ],
      "metadata": {
        "id": "uxw9APt6kXZa"
      },
      "execution_count": null,
      "outputs": []
    },
    {
      "cell_type": "code",
      "source": [
        "check_if_can_drive()"
      ],
      "metadata": {
        "colab": {
          "base_uri": "https://localhost:8080/"
        },
        "id": "mqh7rSqUkj0E",
        "outputId": "5c51d2ba-7c4e-476f-db64-04b54220183a"
      },
      "execution_count": null,
      "outputs": [
        {
          "output_type": "stream",
          "name": "stdout",
          "text": [
            "How old are you? 19\n",
            "You have permission to drive.\n"
          ]
        }
      ]
    },
    {
      "cell_type": "markdown",
      "source": [
        "## Lists"
      ],
      "metadata": {
        "id": "MH9Mh2h1l9HG"
      }
    },
    {
      "cell_type": "code",
      "source": [
        "age = 30\n",
        "age"
      ],
      "metadata": {
        "colab": {
          "base_uri": "https://localhost:8080/"
        },
        "id": "_SaV9SD4knLl",
        "outputId": "99ff8a66-3ba2-4ec7-d634-d431f17fb238"
      },
      "execution_count": null,
      "outputs": [
        {
          "output_type": "execute_result",
          "data": {
            "text/plain": [
              "30"
            ]
          },
          "metadata": {},
          "execution_count": 23
        }
      ]
    },
    {
      "cell_type": "code",
      "source": [
        "type(age)"
      ],
      "metadata": {
        "colab": {
          "base_uri": "https://localhost:8080/"
        },
        "id": "CwO8ane4mDxN",
        "outputId": "4be144aa-d928-4d26-ab8a-e35812224800"
      },
      "execution_count": null,
      "outputs": [
        {
          "output_type": "execute_result",
          "data": {
            "text/plain": [
              "int"
            ]
          },
          "metadata": {},
          "execution_count": 24
        }
      ]
    },
    {
      "cell_type": "code",
      "source": [
        "name = \"Bruno\"\n",
        "name"
      ],
      "metadata": {
        "colab": {
          "base_uri": "https://localhost:8080/",
          "height": 37
        },
        "id": "5IMssU9HmE4u",
        "outputId": "4aff8460-7749-4c02-8fbe-7f44015db68c"
      },
      "execution_count": null,
      "outputs": [
        {
          "output_type": "execute_result",
          "data": {
            "text/plain": [
              "'Bruno'"
            ],
            "application/vnd.google.colaboratory.intrinsic+json": {
              "type": "string"
            }
          },
          "metadata": {},
          "execution_count": 25
        }
      ]
    },
    {
      "cell_type": "code",
      "source": [
        "type(name)"
      ],
      "metadata": {
        "colab": {
          "base_uri": "https://localhost:8080/"
        },
        "id": "_aCxmN_-mHUP",
        "outputId": "5f288517-ee53-4a9a-eb5e-7dcad91cf0ad"
      },
      "execution_count": null,
      "outputs": [
        {
          "output_type": "execute_result",
          "data": {
            "text/plain": [
              "str"
            ]
          },
          "metadata": {},
          "execution_count": 26
        }
      ]
    },
    {
      "cell_type": "code",
      "source": [
        "ages = [22, 14, 18, 12]\n",
        "type(ages)"
      ],
      "metadata": {
        "colab": {
          "base_uri": "https://localhost:8080/"
        },
        "id": "lQB5KO4fmI_M",
        "outputId": "9c8048cb-95df-4d11-e04d-3f6b1556f410"
      },
      "execution_count": null,
      "outputs": [
        {
          "output_type": "execute_result",
          "data": {
            "text/plain": [
              "list"
            ]
          },
          "metadata": {},
          "execution_count": 27
        }
      ]
    },
    {
      "cell_type": "code",
      "source": [
        "ages"
      ],
      "metadata": {
        "colab": {
          "base_uri": "https://localhost:8080/"
        },
        "id": "ABxHlKhymR92",
        "outputId": "52952183-4119-47d1-a49e-6ae2c6e20580"
      },
      "execution_count": null,
      "outputs": [
        {
          "output_type": "execute_result",
          "data": {
            "text/plain": [
              "[22, 14, 18, 12]"
            ]
          },
          "metadata": {},
          "execution_count": 28
        }
      ]
    },
    {
      "cell_type": "code",
      "source": [
        "ages[2]"
      ],
      "metadata": {
        "colab": {
          "base_uri": "https://localhost:8080/"
        },
        "id": "9SnLhNqtmXjj",
        "outputId": "0d9fd138-f9b4-42af-e948-e8a4eed43a93"
      },
      "execution_count": null,
      "outputs": [
        {
          "output_type": "execute_result",
          "data": {
            "text/plain": [
              "18"
            ]
          },
          "metadata": {},
          "execution_count": 29
        }
      ]
    },
    {
      "cell_type": "code",
      "source": [
        "ages[0]"
      ],
      "metadata": {
        "colab": {
          "base_uri": "https://localhost:8080/"
        },
        "id": "Ylc_gA4AmZnP",
        "outputId": "332f9ae0-20c0-46bb-ce4a-b0bca1e7a64c"
      },
      "execution_count": null,
      "outputs": [
        {
          "output_type": "execute_result",
          "data": {
            "text/plain": [
              "22"
            ]
          },
          "metadata": {},
          "execution_count": 30
        }
      ]
    },
    {
      "cell_type": "code",
      "source": [
        "ages[0:2]"
      ],
      "metadata": {
        "colab": {
          "base_uri": "https://localhost:8080/"
        },
        "id": "FNEtAcWrmb6e",
        "outputId": "a45fca71-2f85-4dd1-9f31-a0fca8d52d86"
      },
      "execution_count": null,
      "outputs": [
        {
          "output_type": "execute_result",
          "data": {
            "text/plain": [
              "[22, 14]"
            ]
          },
          "metadata": {},
          "execution_count": 31
        }
      ]
    },
    {
      "cell_type": "code",
      "source": [
        "ages[1:3]"
      ],
      "metadata": {
        "colab": {
          "base_uri": "https://localhost:8080/"
        },
        "id": "m3S6JSo8meoI",
        "outputId": "be2ea620-5269-49f6-82ed-baf6969a6be8"
      },
      "execution_count": null,
      "outputs": [
        {
          "output_type": "execute_result",
          "data": {
            "text/plain": [
              "[14, 18]"
            ]
          },
          "metadata": {},
          "execution_count": 32
        }
      ]
    },
    {
      "cell_type": "code",
      "source": [
        "ages[2:]"
      ],
      "metadata": {
        "colab": {
          "base_uri": "https://localhost:8080/"
        },
        "id": "zG_kF1zym2Ag",
        "outputId": "7e941e01-7974-46f4-c294-22841a6202f2"
      },
      "execution_count": null,
      "outputs": [
        {
          "output_type": "execute_result",
          "data": {
            "text/plain": [
              "[18, 12]"
            ]
          },
          "metadata": {},
          "execution_count": 33
        }
      ]
    },
    {
      "cell_type": "markdown",
      "source": [
        "## for loops"
      ],
      "metadata": {
        "id": "Rh_sQeWwSQRl"
      }
    },
    {
      "cell_type": "code",
      "source": [
        "ages"
      ],
      "metadata": {
        "colab": {
          "base_uri": "https://localhost:8080/"
        },
        "id": "Hkp0ZtXbnDTR",
        "outputId": "3789cd59-bd10-4e8c-9cc8-62dceb41c6df"
      },
      "execution_count": null,
      "outputs": [
        {
          "output_type": "execute_result",
          "data": {
            "text/plain": [
              "[22, 14, 18, 12]"
            ]
          },
          "metadata": {},
          "execution_count": 34
        }
      ]
    },
    {
      "cell_type": "code",
      "source": [
        "# we can use \"for\" loop outside the function\n",
        "\n",
        "def check_if_can_drive(ages):\n",
        "  if ages >= 18:\n",
        "    print(f'{ages} years old, you have permission to drive')\n",
        "  else:\n",
        "    print(f'{ages} years old, you have not permission to drive')\n",
        "\n",
        "for age in ages:\n",
        "  check_if_can_drive(age)"
      ],
      "metadata": {
        "colab": {
          "base_uri": "https://localhost:8080/"
        },
        "id": "eU-4JrQjSYf7",
        "outputId": "f1aeaaaa-9ba4-4b49-d03d-af67ad24b353"
      },
      "execution_count": null,
      "outputs": [
        {
          "output_type": "stream",
          "name": "stdout",
          "text": [
            "22 years old, you have permission to drive\n",
            "14 years old, you have not permission to drive\n",
            "18 years old, you have permission to drive\n",
            "12 years old, you have not permission to drive\n"
          ]
        }
      ]
    },
    {
      "cell_type": "code",
      "source": [
        "# Using the \"for\" loop inside the function\n",
        "\n",
        "def check_if_can_drive(ages):\n",
        "  for age in ages:\n",
        "    if age >= 18:\n",
        "      print(f'{age} years old, you have permission to drive.')\n",
        "    else:\n",
        "      print(f'{age} years old, you have not permission to drive.')\n",
        "\n",
        "check_if_can_drive(ages)"
      ],
      "metadata": {
        "colab": {
          "base_uri": "https://localhost:8080/"
        },
        "id": "XtUqCPq_TWcq",
        "outputId": "e4936783-a417-49c2-c8fe-5c672fc675b4"
      },
      "execution_count": null,
      "outputs": [
        {
          "output_type": "stream",
          "name": "stdout",
          "text": [
            "22 years old, you have permission to drive.\n",
            "14 years old, you have not permission to drive.\n",
            "18 years old, you have permission to drive.\n",
            "12 years old, you have not permission to drive.\n"
          ]
        }
      ]
    },
    {
      "cell_type": "markdown",
      "source": [
        "## Booleans"
      ],
      "metadata": {
        "id": "ifjTLR3LUrH3"
      }
    },
    {
      "cell_type": "code",
      "source": [
        "age = 18\n",
        "age >= 18"
      ],
      "metadata": {
        "colab": {
          "base_uri": "https://localhost:8080/"
        },
        "id": "25UF845DUoB8",
        "outputId": "ef600701-198c-484c-c105-0250f3b6062a"
      },
      "execution_count": null,
      "outputs": [
        {
          "output_type": "execute_result",
          "data": {
            "text/plain": [
              "True"
            ]
          },
          "metadata": {},
          "execution_count": 37
        }
      ]
    },
    {
      "cell_type": "code",
      "source": [
        "age = 15\n",
        "age >= 18"
      ],
      "metadata": {
        "colab": {
          "base_uri": "https://localhost:8080/"
        },
        "id": "fJlZhuUVUyrr",
        "outputId": "b4770579-34a7-4a2b-c7ff-1b35dba9fbb9"
      },
      "execution_count": null,
      "outputs": [
        {
          "output_type": "execute_result",
          "data": {
            "text/plain": [
              "False"
            ]
          },
          "metadata": {},
          "execution_count": 38
        }
      ]
    },
    {
      "cell_type": "code",
      "source": [
        "# creating an empty list called \"permissions\"\n",
        "permissions = []\n",
        "ages = [26, 12, 32]\n",
        "\n",
        "def check_if_can_drive(ages, permissions):\n",
        "  for age in ages:\n",
        "    if age >= 18:\n",
        "      permissions.append(True)\n",
        "    else:\n",
        "      permissions.append(False)\n",
        "\n",
        "check_if_can_drive(ages, permissions)"
      ],
      "metadata": {
        "id": "7oHs6txJU2xn"
      },
      "execution_count": null,
      "outputs": []
    },
    {
      "cell_type": "code",
      "source": [
        "permissions"
      ],
      "metadata": {
        "colab": {
          "base_uri": "https://localhost:8080/"
        },
        "id": "g43pb0cCVcsj",
        "outputId": "d0e16263-3359-4a32-c4b6-e0b57a2b71f7"
      },
      "execution_count": null,
      "outputs": [
        {
          "output_type": "execute_result",
          "data": {
            "text/plain": [
              "[True, False, True]"
            ]
          },
          "metadata": {},
          "execution_count": 40
        }
      ]
    },
    {
      "cell_type": "code",
      "source": [
        "for permission in permissions:\n",
        "  if permission == True:\n",
        "    print('Have permission to drive.')\n",
        "  else:\n",
        "    print('Have not permission to drive')"
      ],
      "metadata": {
        "colab": {
          "base_uri": "https://localhost:8080/"
        },
        "id": "W_-KcqtgVfKe",
        "outputId": "bf69cc93-1174-4cdd-bedf-e98cb409ee2d"
      },
      "execution_count": null,
      "outputs": [
        {
          "output_type": "stream",
          "name": "stdout",
          "text": [
            "Have permission to drive.\n",
            "Have not permission to drive\n",
            "Have permission to drive.\n"
          ]
        }
      ]
    },
    {
      "cell_type": "markdown",
      "source": [
        "## Different types of data in a list"
      ],
      "metadata": {
        "id": "FcKHsqagWXOx"
      }
    },
    {
      "cell_type": "code",
      "source": [
        "lists = ['Bruno', 30, True, '20']"
      ],
      "metadata": {
        "id": "2buYFMJdWGQb"
      },
      "execution_count": null,
      "outputs": []
    },
    {
      "cell_type": "code",
      "source": [
        "for element in lists:\n",
        "  print(f'The element {element} is the type: ', type(element))"
      ],
      "metadata": {
        "colab": {
          "base_uri": "https://localhost:8080/"
        },
        "id": "U06wOwZfWkRz",
        "outputId": "287161d1-5582-4256-9a36-d55d314785f5"
      },
      "execution_count": null,
      "outputs": [
        {
          "output_type": "stream",
          "name": "stdout",
          "text": [
            "The element Bruno is the type:  <class 'str'>\n",
            "The element 30 is the type:  <class 'int'>\n",
            "The element True is the type:  <class 'bool'>\n",
            "The element 20 is the type:  <class 'str'>\n"
          ]
        }
      ]
    },
    {
      "cell_type": "markdown",
      "source": [
        "## Import"
      ],
      "metadata": {
        "id": "AKOjj6FjW0rH"
      }
    },
    {
      "cell_type": "code",
      "source": [
        "# import random\n",
        "from random import randrange, seed"
      ],
      "metadata": {
        "id": "7QSTucPGWts7"
      },
      "execution_count": null,
      "outputs": []
    },
    {
      "cell_type": "code",
      "source": [
        "seed(11) # the seed method is used to initialize the random number generator"
      ],
      "metadata": {
        "id": "6JqDABoZW6XK"
      },
      "execution_count": null,
      "outputs": []
    },
    {
      "cell_type": "code",
      "source": [
        "randrange(0,11) # generates a random numbers between 0 and 10"
      ],
      "metadata": {
        "colab": {
          "base_uri": "https://localhost:8080/"
        },
        "id": "8H876yE3W-j8",
        "outputId": "1816c947-66d4-4dda-e076-83872d9a8cc6"
      },
      "execution_count": null,
      "outputs": [
        {
          "output_type": "execute_result",
          "data": {
            "text/plain": [
              "7"
            ]
          },
          "metadata": {},
          "execution_count": 46
        }
      ]
    },
    {
      "cell_type": "code",
      "source": [
        "math_notes = []\n",
        "\n",
        "for notes in range(8):\n",
        "  math_notes.append(randrange(0,11))\n",
        "\n",
        "math_notes"
      ],
      "metadata": {
        "colab": {
          "base_uri": "https://localhost:8080/"
        },
        "id": "1Rw0d7M4XBoZ",
        "outputId": "745d7291-8324-4f88-bb3b-fe3b337d1cd0"
      },
      "execution_count": null,
      "outputs": [
        {
          "output_type": "execute_result",
          "data": {
            "text/plain": [
              "[8, 7, 7, 8, 9, 3, 2, 8]"
            ]
          },
          "metadata": {},
          "execution_count": 47
        }
      ]
    },
    {
      "cell_type": "code",
      "source": [
        "len(math_notes)"
      ],
      "metadata": {
        "colab": {
          "base_uri": "https://localhost:8080/"
        },
        "id": "bYZGFAiwXc5y",
        "outputId": "7fb68188-e254-440f-f095-7f3afd1f5c47"
      },
      "execution_count": null,
      "outputs": [
        {
          "output_type": "execute_result",
          "data": {
            "text/plain": [
              "8"
            ]
          },
          "metadata": {},
          "execution_count": 48
        }
      ]
    },
    {
      "cell_type": "markdown",
      "source": [
        "## Matplotlib\n",
        "\n",
        "Using the Matplotlib library to create a plot."
      ],
      "metadata": {
        "id": "dmFvc_VTYeF7"
      }
    },
    {
      "cell_type": "code",
      "source": [
        "import matplotlib.pyplot as plt"
      ],
      "metadata": {
        "id": "WIK0ax3vw4Ry"
      },
      "execution_count": null,
      "outputs": []
    },
    {
      "cell_type": "code",
      "source": [
        "x = list(range(1,9))\n",
        "x"
      ],
      "metadata": {
        "colab": {
          "base_uri": "https://localhost:8080/"
        },
        "id": "7aGhF-eczQAt",
        "outputId": "c71cf800-12cb-41f6-fdb4-e9f38dcbb9a0"
      },
      "execution_count": null,
      "outputs": [
        {
          "output_type": "execute_result",
          "data": {
            "text/plain": [
              "[1, 2, 3, 4, 5, 6, 7, 8]"
            ]
          },
          "metadata": {},
          "execution_count": 50
        }
      ]
    },
    {
      "cell_type": "code",
      "source": [
        "y = math_notes\n",
        "y"
      ],
      "metadata": {
        "colab": {
          "base_uri": "https://localhost:8080/"
        },
        "id": "xzn3GOA-zSms",
        "outputId": "7009815d-0b3a-41c2-bb3d-552bc47d341f"
      },
      "execution_count": null,
      "outputs": [
        {
          "output_type": "execute_result",
          "data": {
            "text/plain": [
              "[8, 7, 7, 8, 9, 3, 2, 8]"
            ]
          },
          "metadata": {},
          "execution_count": 51
        }
      ]
    },
    {
      "cell_type": "code",
      "source": [
        "plt.plot(x, y, marker = 'o')\n",
        "plt.title(\"Math Notes\")\n",
        "plt.xlabel(\"Tests\")\n",
        "plt.ylabel(\"Notes\")\n",
        "plt.show()"
      ],
      "metadata": {
        "colab": {
          "base_uri": "https://localhost:8080/",
          "height": 295
        },
        "id": "eVYPfnu70DM4",
        "outputId": "b4f61351-07b2-407c-f8dd-b81cc81e3042"
      },
      "execution_count": null,
      "outputs": [
        {
          "output_type": "display_data",
          "data": {
            "text/plain": [
              "<Figure size 432x288 with 1 Axes>"
            ],
            "image/png": "[encoded data removed]"
          },
          "metadata": {
            "needs_background": "light"
          }
        }
      ]
    },
    {
      "cell_type": "code",
      "source": [
        "math_notes"
      ],
      "metadata": {
        "colab": {
          "base_uri": "https://localhost:8080/"
        },
        "id": "-ODqhKTB0ez2",
        "outputId": "6c5c9132-8200-47a5-d7a7-7387d38cc4c2"
      },
      "execution_count": null,
      "outputs": [
        {
          "output_type": "execute_result",
          "data": {
            "text/plain": [
              "[8, 7, 7, 8, 9, 3, 2, 8]"
            ]
          },
          "metadata": {},
          "execution_count": 53
        }
      ]
    },
    {
      "cell_type": "code",
      "source": [],
      "metadata": {
        "id": "m7UtJdldA0QS"
      },
      "execution_count": null,
      "outputs": []
    }
  ]
}